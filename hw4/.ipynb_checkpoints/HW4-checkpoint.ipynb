{
 "cells": [
  {
   "cell_type": "code",
   "execution_count": null,
   "metadata": {
    "collapsed": false,
    "deletable": true,
    "editable": true
   },
   "outputs": [],
   "source": [
    "import sys\n",
    "import socket\n",
    "\n",
    "def connect_server(server_name, port, message):\n",
    "    server = (server_name, int(port)) #calling int is required when using Sage\n",
    "    s = socket.create_connection(server)\n",
    "    s.send(message)\n",
    "    response=''\n",
    "    while True: #data might come in several packets, need to wait for all of it\n",
    "        data = s.recv(9000)\n",
    "        if not data: break\n",
    "        response = response+data\n",
    "    s.close()\n",
    "    return response\n",
    "\n",
    "## sbox computation from wikipedia\n",
    "def ROTL8(x,shift) : \n",
    "        return 0xff & ( ( (x) << (shift) ) | ( (x) >> (8 - (shift) ) ) )\n",
    "\n",
    "def initialise_aes_sbox() :\n",
    "        sbox = [None] * 256\n",
    "        p = q = 1\n",
    "        firstTime = True\n",
    "        # loop invariant: p * q == 1 in the Galois field\n",
    "        while p != 1 or firstTime : # To simulate a do/while loop\n",
    "                # multiply p by 3\n",
    "                p = p ^ (p << 1) ^ (0x1B if p & 0x80 else 0)\n",
    "                p = p & 0xff\n",
    "                # divide q by 3\n",
    "                q ^= q << 1\n",
    "                q ^= q << 2\n",
    "                q ^= q << 4\n",
    "                q ^= 0x09 if q & 0x80 else 0\n",
    "                q = q & 0xff\n",
    "                # compute the affine transformation\n",
    "                xformed = q ^ ROTL8(q, 1) ^ ROTL8(q, 2) ^ ROTL8(q, 3) ^ ROTL8(q, 4)\n",
    "                sbox[p] = xformed ^ 0x63\n",
    "                firstTime = False\n",
    "        # 0 is a special case since it has no inverse\n",
    "        sbox[0] = 0x63\n",
    "        return sbox\n",
    "\n",
    "#sbox = initialise_aes_sbox()\n",
    "#sboxinv = [None] * 256\n",
    "#i = 0\n",
    "#for v in sbox:\n",
    "#    sboxinv[v] = i\n",
    "\n",
    "###EX1###\n",
    "c1=\"cfwqyglgdgvioqwpslcwumhbkrwjkreedckqfjvrqlkjwvebsufvbllqgcaihooeersucivdnznvpjwnnaacajvbqdtcqnhtsvsgkvdtozalktjmxyipwedjzjgbdhfnmv:e\"\n",
    "\n",
    "##print connect_server(\"lasecpc28.epfl.ch\", 5555, '217548 \"a\"\\n')\n",
    "\n",
    "\n",
    "key = [5, 18, 2, 17, 17, 6, 8, 7, 9, 2, 4, 11, 15, 5, 8, 20, 19, 23, 12, 8, 19, 12, 6, 20, 26, 9, 3, 12, 11, 25, 17, 5, 23, 2, 16, 12, 6, 7, 7, 6, 12, 20, 26, 9, 0, 22, 4, 10, 19, 23, 18, 1, 11, 12, 21, 16, 20, 26, 13, 23, 8, 19, 0, 14, 1, 18, 17, 0, 10, 9, 2, 23, 9, 26, 25, 4, 1, 8, 22, 12, 5, 16, 19, 10, 3, 10, 2, 21, 16, 11, 20, 0, 2, 2, 3, 1, 7, 21, 23, 7, 2, 3, 4, 22, 0, 5, 10, 12, 20, 19, 23, 9, 9, 12, 9, 20, 8, 14, 0, 10, 17, 18, 7, 15, 16, 12, 6, 26, 26, 17]\n",
    "i = 0\n",
    "out = \"\"\n",
    "Z = Integers(27)\n",
    "for k in key:\n",
    "    m = chr(int(Z(ord(c1[i]) - 97 - k)) + 97)\n",
    "    i += 1\n",
    "    if m == \"{\":\n",
    "        out += \" \"\n",
    "    else:\n",
    "        out += m\n",
    "print(\"\\\"\" + out + \"\\\"\")\n",
    "\n",
    "def subBytes(S):\n",
    "    for i in range(3):\n",
    "        for j in range(3):\n",
    "            S[i][j] = sbox[S[i][j]]\n",
    "    return S\n",
    "def subBytesInv(S):\n",
    "    for i in range(3):\n",
    "        for j in range(3):\n",
    "            S[i][j] = sboxinv[S[i][j]]\n",
    "    return S\n",
    "\n",
    "def shiftRows(S):\n",
    "    S[1] = [S[1][1], S[1][2], S[1][3], S[1][0]]\n",
    "    S[2] = [S[2][2], S[2][3], S[2][0], S[2][1]]\n",
    "    S[3] = [S[3][3], S[3][0], S[3][1], S[3][2]]\n",
    "    return S\n",
    "def shiftRowsInv(S):\n",
    "    S[1] = [S[1][3], S[1][0], S[1][1], S[1][2]]\n",
    "    S[2] = [S[2][2], S[2][3], S[2][0], S[2][1]]\n",
    "    S[3] = [S[3][1], S[3][2], S[3][3], S[3][0]]\n",
    "    return S"
   ]
  },
  {
   "cell_type": "code",
   "execution_count": 8,
   "metadata": {
    "collapsed": false,
    "deletable": true,
    "editable": true
   },
   "outputs": [
    {
     "name": "stdout",
     "output_type": "stream",
     "text": [
      "hello\n"
     ]
    }
   ],
   "source": [
    "print \"hello\""
   ]
  },
  {
   "cell_type": "code",
   "execution_count": null,
   "metadata": {
    "collapsed": true,
    "deletable": true,
    "editable": true
   },
   "outputs": [],
   "source": []
  }
 ],
 "metadata": {
  "kernelspec": {
   "display_name": "SageMath 8.0",
   "language": "",
   "name": "sagemath"
  },
  "language_info": {
   "codemirror_mode": {
    "name": "ipython",
    "version": 2
   },
   "file_extension": ".py",
   "mimetype": "text/x-python",
   "name": "python",
   "nbconvert_exporter": "python",
   "pygments_lexer": "ipython2",
   "version": "2.7.13"
  }
 },
 "nbformat": 4,
 "nbformat_minor": 0
}
